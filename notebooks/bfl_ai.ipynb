{
 "cells": [
  {
   "cell_type": "markdown",
   "id": "3fccd14f",
   "metadata": {},
   "source": [
    "# Black Forest API\n",
    "\n",
    "In this notebook we test the black forest API for generating and editing images."
   ]
  },
  {
   "cell_type": "code",
   "execution_count": null,
   "id": "58d13484",
   "metadata": {},
   "outputs": [],
   "source": [
    "# Install `requests` (e.g. `pip install requests`) and `Pillow` (e.g. `pip install Pillow`), then run:\n",
    "import os\n",
    "from dotenv import load_dotenv\n",
    "import requests\n",
    "import time\n",
    "load_dotenv()\n",
    "IONOS_API_TOKEN = os.getenv(\"BFL_API_KEY\")"
   ]
  },
  {
   "cell_type": "code",
   "execution_count": null,
   "id": "8dd48117",
   "metadata": {},
   "outputs": [],
   "source": [
    "request = requests.post(\n",
    "    \"https://api.bfl.ai/v1/flux-kontext-pro\",\n",
    "    headers={\n",
    "        \"accept\": \"application/json\",\n",
    "        \"x-key\": os.environ.get(\"BFL_API_KEY\"),\n",
    "        \"Content-Type\": \"application/json\",\n",
    "    },\n",
    "    json={\n",
    "        \"prompt\": \"A small furry elephant pet looks out from a cat house\",\n",
    "    },\n",
    ").json()\n",
    "\n",
    "print(request)\n",
    "request_id = request[\"id\"]\n",
    "polling_url = request[\"polling_url\"]  # Use this URL for polling"
   ]
  }
 ],
 "metadata": {
  "kernelspec": {
   "display_name": "merkle-tree-notebooks",
   "language": "python",
   "name": "merkle-tree-notebooks"
  },
  "language_info": {
   "name": "python",
   "version": "3.12.5"
  }
 },
 "nbformat": 4,
 "nbformat_minor": 5
}
