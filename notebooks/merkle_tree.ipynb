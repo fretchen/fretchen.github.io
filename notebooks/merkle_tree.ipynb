{
 "cells": [
  {
   "cell_type": "markdown",
   "id": "e7ea39b4",
   "metadata": {},
   "source": [
    "# What are merkle trees and how could I use them?\n",
    "\n",
    "In this notebook I look into how merkle trees work and how I might use them.\n",
    "\n",
    "Let me first create some batches that I want to hash."
   ]
  },
  {
   "cell_type": "code",
   "execution_count": null,
   "id": "592a5e60",
   "metadata": {},
   "outputs": [],
   "source": [
    "import hashlib\n",
    "import json\n",
    "from typing import List, Tuple, Callable\n",
    "from pprint import pprint\n",
    "\n",
    "from pydantic import BaseModel\n",
    "from datetime import datetime, timezone\n",
    "from typing import List"
   ]
  },
  {
   "cell_type": "code",
   "execution_count": 172,
   "id": "c8fab8f4",
   "metadata": {},
   "outputs": [],
   "source": [
    "class LlmBatchItem(BaseModel):\n",
    "    id: int\n",
    "    timestamp: datetime\n",
    "    tokenCount: int\n",
    "    wallet: str\n",
    "\n",
    "def stable_serialize(batch: LlmBatchItem) -> str:\n",
    "    \"\"\"Serialize a dictionary to a stable JSON string.\n",
    "    This ensures that the keys are sorted, which is important for consistent hashing.\n",
    "\n",
    "    Args:\n",
    "        obj): The dictionary to serialize.\n",
    "\n",
    "    Returns:\n",
    "        A stable JSON string representation of the dictionary.\n",
    "    \"\"\"\n",
    "    return batch.model_dump_json()\n",
    "\n",
    "\n",
    "def sha256(data: bytes) -> bytes:\n",
    "    \"\"\"Default SHA-256 hash function.\"\"\"\n",
    "    return hashlib.sha256(data).digest()"
   ]
  },
  {
   "cell_type": "code",
   "execution_count": 173,
   "id": "071c577a",
   "metadata": {},
   "outputs": [],
   "source": [
    "llmBatch = [\n",
    "    LlmBatchItem(\n",
    "        id=1,\n",
    "        timestamp=\"2023-09-01T12:00:00Z\",\n",
    "        tokenCount=1024,\n",
    "        wallet=\"0xUser1Address\",\n",
    "    ),\n",
    "    LlmBatchItem(\n",
    "        id=2,\n",
    "        timestamp=\"2023-09-02T12:00:00Z\",\n",
    "        tokenCount=1023,\n",
    "        wallet=\"0xUser2Address\",\n",
    "    ),\n",
    "    LlmBatchItem(\n",
    "        id=3,\n",
    "        timestamp=\"2023-09-03T12:00:00Z\",\n",
    "        tokenCount=1022,\n",
    "        wallet=\"0xUser1Address\",\n",
    "    ),\n",
    "    LlmBatchItem(\n",
    "        id=4,\n",
    "        timestamp=\"2023-09-04T12:00:00Z\",\n",
    "        tokenCount=1021,\n",
    "        wallet=\"0xUser4Address\",\n",
    "    ),\n",
    "]"
   ]
  },
  {
   "cell_type": "markdown",
   "id": "e44fda88",
   "metadata": {},
   "source": [
    "Now that I have my batches, I can create a merkle tree. In the merkle tree we first encode each of the batches into a byte string, then we hash each of these strings to create the leaf nodes of the tree. The hash once again producing a byte string."
   ]
  },
  {
   "cell_type": "code",
   "execution_count": 174,
   "id": "5db02e22",
   "metadata": {},
   "outputs": [
    {
     "name": "stdout",
     "output_type": "stream",
     "text": [
      "Leaf hashes: ['5bc1a99e7e8903c3368d84e5812ef2406caaea6ff9f4086a7da9f24d20e6ab5a', 'f2cb983c8269e2cfe0d304644ab728d498cbae86fbc5d4c9d3080e85b6065872', 'ca8dcdb03db2b2808cf38d4ba0f71eddb71e214d65b107838241afc7a2edd388', '66f53003874c6aea844469e7a78e5f259e7c8d2fdc7477089a12ec26d44d8de6']\n"
     ]
    }
   ],
   "source": [
    "leaf_hashes = [sha256(stable_serialize(batch).encode('utf-8')) for batch in llmBatch]\n",
    "print(\"Leaf hashes:\", [h.hex() for h in leaf_hashes])"
   ]
  },
  {
   "cell_type": "markdown",
   "id": "ea3ee560",
   "metadata": {},
   "source": [
    "Now that I have the four leafs I can create the parent nodes. The parent node is the hash of the binary sum of the two child nodes of its two child nodes.\n",
    "\n",
    "Finally, I can create the root node, which is the hash of the binary sum of its two child nodes."
   ]
  },
  {
   "cell_type": "code",
   "execution_count": 175,
   "id": "19793e8c",
   "metadata": {},
   "outputs": [
    {
     "name": "stdout",
     "output_type": "stream",
     "text": [
      "Parent nodes: ['e867d7ea3b37ae8faf4387e507106a54837485a24990ce3aed26ea13488f21fe', '1cb983666708c3054522879fcb3416efaf451eed80f61795c1ee42c5f4f6f116']\n",
      "Root node: afd62e33c636dbffa7a7ffb0553090225f1d206a6a535f99d4879dacfa338bff\n"
     ]
    }
   ],
   "source": [
    "# create parent nodes\n",
    "parent_nodes = []\n",
    "for i in range(0, len(leaf_hashes), 2):\n",
    "    parent_node = sha256(leaf_hashes[i] + leaf_hashes[i + 1])\n",
    "    parent_nodes.append(parent_node)\n",
    "print(\"Parent nodes:\", [h.hex() for h in parent_nodes])\n",
    "\n",
    "root_node = sha256(parent_nodes[0] + parent_nodes[1])\n",
    "print(\"Root node:\", root_node.hex())"
   ]
  },
  {
   "cell_type": "markdown",
   "id": "f0813543",
   "metadata": {},
   "source": [
    "we will later most likely work with `merkletreejs` in javascript. So let us write a simple wrapper with a similiar API."
   ]
  },
  {
   "cell_type": "code",
   "execution_count": 176,
   "id": "f00f6d0e",
   "metadata": {},
   "outputs": [],
   "source": [
    "class MerkleTree:\n",
    "    def __init__(self, hash_func: Callable[[bytes], bytes] = sha256):\n",
    "        \"\"\"\n",
    "        Initialize a Merkle tree with an optional hash function.\n",
    "\n",
    "        Args:\n",
    "            hash_func: A function that takes bytes and returns a hash digest as bytes.\n",
    "        \"\"\"\n",
    "        self.hash_func = hash_func\n",
    "        self.leaves: List[bytes] = []\n",
    "        self.levels: List[List[bytes]] = []\n",
    "\n",
    "    def add_leaf(self, data: str) -> None:\n",
    "        \"\"\"\n",
    "        Add a leaf node to the tree.\n",
    "\n",
    "        Args:\n",
    "            data: Input string to be hashed and added as a leaf.\n",
    "        \"\"\"\n",
    "        self.leaves.append(self.hash_func(data.encode()))\n",
    "\n",
    "    def make_tree(self) -> None:\n",
    "        \"\"\"\n",
    "        Construct the Merkle tree from the current leaves.\n",
    "        \"\"\"\n",
    "        if not self.leaves:\n",
    "            raise ValueError(\"No leaves to build the tree.\")\n",
    "        self.levels = [self.leaves.copy()]\n",
    "        current = self.leaves\n",
    "        while len(current) > 1:\n",
    "            next_level: List[bytes] = []\n",
    "            for i in range(0, len(current), 2):\n",
    "                left = current[i]\n",
    "                right = current[i + 1] if i + 1 < len(current) else left\n",
    "                combined = self.hash_func(left + right)\n",
    "                next_level.append(combined)\n",
    "            self.levels.append(next_level)\n",
    "            current = next_level\n",
    "\n",
    "    def get_root(self) -> str:\n",
    "        \"\"\"\n",
    "        Get the Merkle root as a hex string.\n",
    "\n",
    "        Returns:\n",
    "            Hex-encoded Merkle root.\n",
    "\n",
    "        Raises:\n",
    "            ValueError: If the tree has not been built yet.\n",
    "        \"\"\"\n",
    "        if not self.levels:\n",
    "            raise ValueError(\"Tree not built yet. Call make_tree() first.\")\n",
    "        return self.levels[-1][0].hex()\n",
    "\n",
    "    def get_proof(self, index: int) -> List[Tuple[str, str]]:\n",
    "        \"\"\"\n",
    "        Generate a Merkle proof for a leaf at the given index.\n",
    "\n",
    "        Args:\n",
    "            index: Index of the target leaf in the original list.\n",
    "\n",
    "        Returns:\n",
    "            A list of tuples (position, sibling_hash) where position is 'left' or 'right'.\n",
    "\n",
    "        Raises:\n",
    "            ValueError: If the tree has not been built.\n",
    "        \"\"\"\n",
    "        if not self.levels:\n",
    "            raise ValueError(\"Tree not built yet. Call make_tree() first.\")\n",
    "        proof: List[Tuple[str, str]] = []\n",
    "        for level in self.levels[:-1]:\n",
    "            sibling_index = index ^ 1\n",
    "            if sibling_index < len(level):\n",
    "                sibling_pos = \"left\" if sibling_index < index else \"right\"\n",
    "                proof.append((sibling_pos, level[sibling_index].hex()))\n",
    "            index //= 2\n",
    "        return proof\n",
    "\n",
    "    def verify_proof(\n",
    "        self, proof: List[Tuple[str, str]], target_leaf: str, root: str\n",
    "    ) -> bool:\n",
    "        \"\"\"\n",
    "        Verify a Merkle proof against the given root.\n",
    "\n",
    "        Args:\n",
    "            proof: A list of (position, sibling_hash) tuples.\n",
    "            target_leaf: Original input string for the leaf.\n",
    "            root: Expected Merkle root (hex string).\n",
    "\n",
    "        Returns:\n",
    "            True if the proof is valid, False otherwise.\n",
    "        \"\"\"\n",
    "        current_hash = self.hash_func(target_leaf.encode())\n",
    "        for position, sibling_hash_hex in proof:\n",
    "            sibling_hash = bytes.fromhex(sibling_hash_hex)\n",
    "            if position == \"left\":\n",
    "                current_hash = self.hash_func(sibling_hash + current_hash)\n",
    "            else:\n",
    "                current_hash = self.hash_func(current_hash + sibling_hash)\n",
    "        return current_hash.hex() == root\n",
    "    \n",
    "    def print_tree(self, short: bool = True) -> None:\n",
    "        \"\"\"\n",
    "        Print the Merkle tree level by level from root to leaves.\n",
    "\n",
    "        Args:\n",
    "            short: If True, abbreviates hashes to the first 8 chars.\n",
    "        \"\"\"\n",
    "        if not self.levels:\n",
    "            raise ValueError(\"Tree not built yet. Call make_tree() first.\")\n",
    "        \n",
    "        def fmt(h: bytes) -> str:\n",
    "            return h.hex()[:8] if short else h.hex()\n",
    "\n",
    "        print(\"\\nMerkle Tree:\")\n",
    "        total_levels = len(self.levels)\n",
    "        for i, level in enumerate(reversed(self.levels)):\n",
    "            level_index = total_levels - i - 1\n",
    "            label = \"Root\" if i == 0 else (\"Leaf\" if i == total_levels - 1 else f\"Level {level_index}\")\n",
    "            hashes = \" | \".join(fmt(h) for h in level)\n",
    "            print(f\"{label}: {hashes}\")\n"
   ]
  },
  {
   "cell_type": "markdown",
   "id": "3e0b3b44",
   "metadata": {},
   "source": [
    "with this API we can once again try to create the tree."
   ]
  },
  {
   "cell_type": "code",
   "execution_count": 177,
   "id": "1213cafd",
   "metadata": {},
   "outputs": [
    {
     "name": "stdout",
     "output_type": "stream",
     "text": [
      "Merkle root: afd62e33c636dbffa7a7ffb0553090225f1d206a6a535f99d4879dacfa338bff\n"
     ]
    }
   ],
   "source": [
    "# create a tree from the batch\n",
    "tree = MerkleTree()\n",
    "for batch in llmBatch:\n",
    "    tree.add_leaf(stable_serialize(batch))\n",
    "tree.make_tree()\n",
    "print(\"Merkle root:\", tree.get_root())"
   ]
  },
  {
   "cell_type": "code",
   "execution_count": 178,
   "id": "2973ce95",
   "metadata": {},
   "outputs": [
    {
     "name": "stdout",
     "output_type": "stream",
     "text": [
      "\n",
      "Merkle Tree:\n",
      "Root: afd62e33\n",
      "Level 1: e867d7ea | 1cb98366\n",
      "Leaf: 5bc1a99e | f2cb983c | ca8dcdb0 | 66f53003\n"
     ]
    }
   ],
   "source": [
    "tree.print_tree(short=True)"
   ]
  },
  {
   "cell_type": "markdown",
   "id": "a1dfa73f",
   "metadata": {},
   "source": [
    "Now I understand that every so often I will commit the Merkle root to the blockchain. But the user might want to know and verify if their leaves are properly included into the tree. So I need to provide a way to verify that a leaf is part of the tree. For this the user needs to get the proof for their leafs. For each leaf the user needs to see:\n",
    "\n",
    "{\n",
    "  \"leaf\": serialized,\n",
    "  \"proof\": list of tuples,\n",
    "  \"root\": hex root\n",
    "}"
   ]
  },
  {
   "cell_type": "code",
   "execution_count": 179,
   "id": "f32d75a2",
   "metadata": {},
   "outputs": [
    {
     "data": {
      "text/plain": [
       "[LlmBatchItem(id=1, timestamp=datetime.datetime(2023, 9, 1, 12, 0, tzinfo=TzInfo(UTC)), tokenCount=1024, wallet='0xUser1Address'), LlmBatchItem(id=2, timestamp=datetime.datetime(2023, 9, 2, 12, 0, tzinfo=TzInfo(UTC)), tokenCount=1023, wallet='0xUser2Address'), LlmBatchItem(id=3, timestamp=datetime.datetime(2023, 9, 3, 12, 0, tzinfo=TzInfo(UTC)), tokenCount=1022, wallet='0xUser1Address'), LlmBatchItem(id=4, timestamp=datetime.datetime(2023, 9, 4, 12, 0, tzinfo=TzInfo(UTC)), tokenCount=1021, wallet='0xUser4Address')]"
      ]
     },
     "execution_count": 179,
     "metadata": {},
     "output_type": "execute_result"
    }
   ],
   "source": [
    "llmBatch"
   ]
  },
  {
   "cell_type": "code",
   "execution_count": 180,
   "id": "1ab42790",
   "metadata": {},
   "outputs": [
    {
     "name": "stdout",
     "output_type": "stream",
     "text": [
      "'User leaves and proofs:'\n",
      "[{'leaf': '{\"id\":1,\"timestamp\":\"2023-09-01T12:00:00Z\",\"tokenCount\":1024,\"wallet\":\"0xUser1Address\"}',\n",
      "  'proof': [('right',\n",
      "             'f2cb983c8269e2cfe0d304644ab728d498cbae86fbc5d4c9d3080e85b6065872'),\n",
      "            ('right',\n",
      "             '1cb983666708c3054522879fcb3416efaf451eed80f61795c1ee42c5f4f6f116')],\n",
      "  'root': 'afd62e33c636dbffa7a7ffb0553090225f1d206a6a535f99d4879dacfa338bff'},\n",
      " {'leaf': '{\"id\":3,\"timestamp\":\"2023-09-03T12:00:00Z\",\"tokenCount\":1022,\"wallet\":\"0xUser1Address\"}',\n",
      "  'proof': [('right',\n",
      "             '66f53003874c6aea844469e7a78e5f259e7c8d2fdc7477089a12ec26d44d8de6'),\n",
      "            ('left',\n",
      "             'e867d7ea3b37ae8faf4387e507106a54837485a24990ce3aed26ea13488f21fe')],\n",
      "  'root': 'afd62e33c636dbffa7a7ffb0553090225f1d206a6a535f99d4879dacfa338bff'}]\n"
     ]
    }
   ],
   "source": [
    "wallet = \"0xUser1Address\"\n",
    "\n",
    "# get all leaves for the user\n",
    "user_leaves = []\n",
    "for ii, batch in enumerate(llmBatch):\n",
    "    if batch.wallet == wallet:\n",
    "\n",
    "        leaf_serialized = stable_serialize(batch)\n",
    "        proof = tree.get_proof(ii)\n",
    "        user_leaves.append({\n",
    "            \"leaf\": leaf_serialized,\n",
    "            \"proof\": proof,\n",
    "            \"root\": tree.get_root()\n",
    "        })\n",
    "\n",
    "pprint(\"User leaves and proofs:\")\n",
    "pprint(user_leaves)"
   ]
  },
  {
   "cell_type": "markdown",
   "id": "54f45f6f",
   "metadata": {},
   "source": [
    "now let us use the proofs of each leaf to verify that the leaf is part of the tree. "
   ]
  },
  {
   "cell_type": "code",
   "execution_count": 181,
   "id": "319873ed",
   "metadata": {},
   "outputs": [
    {
     "name": "stdout",
     "output_type": "stream",
     "text": [
      "Leaf: {\"id\":1,\"timestamp\":\"2023-09-0... is valid: True\n",
      "Leaf: {\"id\":3,\"timestamp\":\"2023-09-0... is valid: True\n"
     ]
    }
   ],
   "source": [
    "for leaf in user_leaves:\n",
    "    is_valid = tree.verify_proof(\n",
    "        proof = leaf[\"proof\"],\n",
    "        target_leaf = leaf[\"leaf\"],\n",
    "        root = leaf[\"root\"]\n",
    "    )\n",
    "    print(f\"Leaf: {leaf['leaf'][:30]}... is valid: {is_valid}\")"
   ]
  },
  {
   "cell_type": "markdown",
   "id": "471b1665",
   "metadata": {},
   "source": [
    "# Emulate submission\n",
    "\n",
    "Now let us see how it would look like. For Alice. She has a wallet and she does a call. Then we create a batch and send back the leaf. The proof cannot be send back yet as the tree is not quite finished."
   ]
  },
  {
   "cell_type": "code",
   "execution_count": null,
   "id": "fff5ad4d",
   "metadata": {},
   "outputs": [],
   "source": [
    "remoteLLMBatch:list[LlmBatchItem] "
   ]
  },
  {
   "cell_type": "code",
   "execution_count": null,
   "id": "ad2d82cd",
   "metadata": {},
   "outputs": [],
   "source": [
    "def send_llm_call(wallet: str, prompt:str):\n",
    "    \"\"\"\n",
    "    Simulate sending an LLM call with a wallet address and prompt.\n",
    "    \n",
    "    Args:\n",
    "        wallet: The user's wallet address.\n",
    "        prompt: The prompt for the LLM call.\n",
    "    \n",
    "    Returns:\n",
    "        A dictionary containing the call details.\n",
    "    \"\"\"\n",
    "    item = LlmBatchItem(\n",
    "        id=len(remoteLLMBatch) + 1,\n",
    "        timestamp=datetime.now(timezone.utc),\n",
    "        tokenCount=1024,  # Example token count\n",
    "        wallet=wallet\n",
    "    )\n",
    "    remoteLLMBatch.append(item)\n",
    "\n",
    "    # now create the hash for the leaf\n",
    "    prompt_serialized = stable_serialize(item)\n",
    "    leaf_hash = sha256(prompt_serialized.encode('utf-8'))\n",
    "    return {\n",
    "        \"leaf\": item.model_dump(),\n",
    "        \"hash\": leaf_hash.hex(),\n",
    "    }\n",
    "    )\n",
    "\n",
    "    # \n",
    "    return {\n",
    "        \"user\": \"Alice\",\n",
    "        \"prompt\": prompt,\n",
    "        \"model\": \"gpt-4-turbo\",\n",
    "        \"wallet\": wallet\n",
    "    }"
   ]
  },
  {
   "cell_type": "code",
   "execution_count": null,
   "id": "b41116f2",
   "metadata": {},
   "outputs": [],
   "source": [
    "# send the call\n",
    "wallet = \"0xUser1Address\"\n",
    "prompt = \"Analyze sentiment of user feedback\"\n",
    "\n",
    "# what do we need as answer\n",
    "tokenCount = 1024\n"
   ]
  }
 ],
 "metadata": {
  "kernelspec": {
   "display_name": "Poetry (Merkle Tree Notebooks)",
   "language": "python",
   "name": "merkle-tree-notebooks"
  },
  "language_info": {
   "codemirror_mode": {
    "name": "ipython",
    "version": 3
   },
   "file_extension": ".py",
   "mimetype": "text/x-python",
   "name": "python",
   "nbconvert_exporter": "python",
   "pygments_lexer": "ipython3",
   "version": "3.12.5"
  }
 },
 "nbformat": 4,
 "nbformat_minor": 5
}
