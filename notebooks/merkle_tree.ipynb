{
 "cells": [
  {
   "cell_type": "markdown",
   "id": "e7ea39b4",
   "metadata": {},
   "source": [
    "# What are merkle trees and how could I use them?\n",
    "\n",
    "In this notebook I look into how merkle trees work and how I might use them.\n",
    "\n",
    "Let me first create some batches that I want to hash."
   ]
  },
  {
   "cell_type": "code",
   "execution_count": 30,
   "id": "592a5e60",
   "metadata": {},
   "outputs": [],
   "source": [
    "import hashlib\n",
    "from typing import List, Tuple, Callable"
   ]
  },
  {
   "cell_type": "code",
   "execution_count": 31,
   "id": "c8fab8f4",
   "metadata": {},
   "outputs": [],
   "source": [
    "def sha256(data: bytes) -> bytes:\n",
    "    \"\"\"Default SHA-256 hash function.\"\"\"\n",
    "    return hashlib.sha256(data).digest()"
   ]
  },
  {
   "cell_type": "code",
   "execution_count": 32,
   "id": "071c577a",
   "metadata": {},
   "outputs": [],
   "source": [
    "llmBatch = [\n",
    "{\n",
    "id: 1,\n",
    "\"prompt\": \"Analyze sentiment of user feedback\",\n",
    "\"model\": \"gpt-4-turbo\",\n",
    "\"recipient\": \"0xUser1Address...\"\n",
    "},\n",
    "{\n",
    "id: 2,\n",
    "\"prompt\": \"Translate user instructions to French\",\n",
    "\"model\": \"gpt-4-turbo\",\n",
    "\"recipient\": \"0xUser2Address...\"\n",
    "},\n",
    "{\n",
    "id: 3,\n",
    "\"prompt\": \"Summarize the latest research on AI\",\n",
    "\"model\": \"gpt-4-turbo\",\n",
    "\"recipient\": \"0xUser3Address...\"\n",
    "},\n",
    "{\n",
    "id: 4,\n",
    "\"prompt\": \"Generate a creative story based on user input\",\n",
    "\"model\": \"gpt-4-turbo\",\n",
    "\"recipient\": \"0xUser4Address...\"\n",
    "}\n",
    "]"
   ]
  },
  {
   "cell_type": "markdown",
   "id": "e44fda88",
   "metadata": {},
   "source": [
    "Now that I have my batches, I can create a merkle tree. In the merkle tree we first encode each of the batches into a byte string, then we hash each of these strings to create the leaf nodes of the tree. The hash once again producing a byte string."
   ]
  },
  {
   "cell_type": "code",
   "execution_count": 33,
   "id": "5db02e22",
   "metadata": {},
   "outputs": [
    {
     "name": "stdout",
     "output_type": "stream",
     "text": [
      "Leaf hashes: ['e4ac014889c5a7b061b729b59e1f4f6bab840b9766810eea46478091e3d3ff70', '7d29b8b8bf00bbb427723f52923700e931b9dc25d8afc726dba7c59da6b645bd', 'edfe39aab2e1245499dda9c0609c7c7586795d27319f2683f5a1ec92277d74d4', '4f8df7b3e932b626c144ad7a30331c04a9874f1d1a48c20281c59d48a521cd3e']\n"
     ]
    }
   ],
   "source": [
    "leaf_hashes = [sha256(str(batch).encode('utf-8')) for batch in llmBatch]\n",
    "print(\"Leaf hashes:\", [h.hex() for h in leaf_hashes])"
   ]
  },
  {
   "cell_type": "markdown",
   "id": "ea3ee560",
   "metadata": {},
   "source": [
    "Now that I have the four leafs I can create the parent nodes. The parent node is the hash of the binary sum of the two child nodes of its two child nodes.\n",
    "\n",
    "Finally, I can create the root node, which is the hash of the binary sum of its two child nodes."
   ]
  },
  {
   "cell_type": "code",
   "execution_count": 34,
   "id": "19793e8c",
   "metadata": {},
   "outputs": [
    {
     "name": "stdout",
     "output_type": "stream",
     "text": [
      "Parent nodes: ['b17f891f734c9cf93a52bc49ab761c00515d576ed21f2142cbcd2359b67a0e55', 'b6faa6fe3f173b78bdd48633b14fa8ae7af47dfa2e9e84299535bae65a904f69']\n",
      "Root node: 8a5f8d59a67a78a0979119eda1e2c326cf18df3c7b42235cc74e4e67f56b931d\n"
     ]
    }
   ],
   "source": [
    "# create parent nodes\n",
    "parent_nodes = []\n",
    "for i in range(0, len(leaf_hashes), 2):\n",
    "    parent_node = sha256(leaf_hashes[i] + leaf_hashes[i + 1])\n",
    "    parent_nodes.append(parent_node)\n",
    "print(\"Parent nodes:\", [h.hex() for h in parent_nodes])\n",
    "\n",
    "root_node = sha256(parent_nodes[0] + parent_nodes[1])\n",
    "print(\"Root node:\", root_node.hex())"
   ]
  },
  {
   "cell_type": "markdown",
   "id": "f0813543",
   "metadata": {},
   "source": [
    "we will later most likely work with `merkletreejs` in javascript. So let us write a simple wrapper with a similiar API."
   ]
  },
  {
   "cell_type": "code",
   "execution_count": 35,
   "id": "f00f6d0e",
   "metadata": {},
   "outputs": [],
   "source": [
    "\n",
    "\n",
    "\n",
    "class MerkleTree:\n",
    "    def __init__(self, hash_func: Callable[[bytes], bytes] = sha256):\n",
    "        \"\"\"\n",
    "        Initialize a Merkle tree with an optional hash function.\n",
    "\n",
    "        Args:\n",
    "            hash_func: A function that takes bytes and returns a hash digest as bytes.\n",
    "        \"\"\"\n",
    "        self.hash_func = hash_func\n",
    "        self.leaves: List[bytes] = []\n",
    "        self.levels: List[List[bytes]] = []\n",
    "\n",
    "    def add_leaf(self, data: str) -> None:\n",
    "        \"\"\"\n",
    "        Add a leaf node to the tree.\n",
    "\n",
    "        Args:\n",
    "            data: Input string to be hashed and added as a leaf.\n",
    "        \"\"\"\n",
    "        self.leaves.append(self.hash_func(data.encode()))\n",
    "\n",
    "    def make_tree(self) -> None:\n",
    "        \"\"\"\n",
    "        Construct the Merkle tree from the current leaves.\n",
    "        \"\"\"\n",
    "        if not self.leaves:\n",
    "            raise ValueError(\"No leaves to build the tree.\")\n",
    "        self.levels = [self.leaves.copy()]\n",
    "        current = self.leaves\n",
    "        while len(current) > 1:\n",
    "            next_level: List[bytes] = []\n",
    "            for i in range(0, len(current), 2):\n",
    "                left = current[i]\n",
    "                right = current[i + 1] if i + 1 < len(current) else left\n",
    "                combined = self.hash_func(left + right)\n",
    "                next_level.append(combined)\n",
    "            self.levels.append(next_level)\n",
    "            current = next_level\n",
    "\n",
    "    def get_root(self) -> str:\n",
    "        \"\"\"\n",
    "        Get the Merkle root as a hex string.\n",
    "\n",
    "        Returns:\n",
    "            Hex-encoded Merkle root.\n",
    "\n",
    "        Raises:\n",
    "            ValueError: If the tree has not been built yet.\n",
    "        \"\"\"\n",
    "        if not self.levels:\n",
    "            raise ValueError(\"Tree not built yet. Call make_tree() first.\")\n",
    "        return self.levels[-1][0].hex()\n",
    "\n",
    "    def get_proof(self, index: int) -> List[Tuple[str, str]]:\n",
    "        \"\"\"\n",
    "        Generate a Merkle proof for a leaf at the given index.\n",
    "\n",
    "        Args:\n",
    "            index: Index of the target leaf in the original list.\n",
    "\n",
    "        Returns:\n",
    "            A list of tuples (position, sibling_hash) where position is 'left' or 'right'.\n",
    "\n",
    "        Raises:\n",
    "            ValueError: If the tree has not been built.\n",
    "        \"\"\"\n",
    "        if not self.levels:\n",
    "            raise ValueError(\"Tree not built yet. Call make_tree() first.\")\n",
    "        proof: List[Tuple[str, str]] = []\n",
    "        for level in self.levels[:-1]:\n",
    "            sibling_index = index ^ 1\n",
    "            if sibling_index < len(level):\n",
    "                sibling_pos = \"left\" if sibling_index < index else \"right\"\n",
    "                proof.append((sibling_pos, level[sibling_index].hex()))\n",
    "            index //= 2\n",
    "        return proof\n",
    "\n",
    "    def verify_proof(\n",
    "        self, proof: List[Tuple[str, str]], target_leaf: str, root: str\n",
    "    ) -> bool:\n",
    "        \"\"\"\n",
    "        Verify a Merkle proof against the given root.\n",
    "\n",
    "        Args:\n",
    "            proof: A list of (position, sibling_hash) tuples.\n",
    "            target_leaf: Original input string for the leaf.\n",
    "            root: Expected Merkle root (hex string).\n",
    "\n",
    "        Returns:\n",
    "            True if the proof is valid, False otherwise.\n",
    "        \"\"\"\n",
    "        current_hash = self.hash_func(target_leaf.encode())\n",
    "        for position, sibling_hash_hex in proof:\n",
    "            sibling_hash = bytes.fromhex(sibling_hash_hex)\n",
    "            if position == \"left\":\n",
    "                current_hash = self.hash_func(sibling_hash + current_hash)\n",
    "            else:\n",
    "                current_hash = self.hash_func(current_hash + sibling_hash)\n",
    "        return current_hash.hex() == root\n",
    "    \n",
    "    def print_tree(self, short: bool = True) -> None:\n",
    "        \"\"\"\n",
    "        Print the Merkle tree level by level from root to leaves.\n",
    "\n",
    "        Args:\n",
    "            short: If True, abbreviates hashes to the first 8 chars.\n",
    "        \"\"\"\n",
    "        if not self.levels:\n",
    "            raise ValueError(\"Tree not built yet. Call make_tree() first.\")\n",
    "        \n",
    "        def fmt(h: bytes) -> str:\n",
    "            return h.hex()[:8] if short else h.hex()\n",
    "\n",
    "        print(\"\\nMerkle Tree:\")\n",
    "        total_levels = len(self.levels)\n",
    "        for i, level in enumerate(reversed(self.levels)):\n",
    "            level_index = total_levels - i - 1\n",
    "            label = \"Root\" if i == 0 else (\"Leaf\" if i == total_levels - 1 else f\"Level {level_index}\")\n",
    "            hashes = \" | \".join(fmt(h) for h in level)\n",
    "            print(f\"{label}: {hashes}\")\n"
   ]
  },
  {
   "cell_type": "markdown",
   "id": "3e0b3b44",
   "metadata": {},
   "source": [
    "with this API we can once again try to create the tree."
   ]
  },
  {
   "cell_type": "code",
   "execution_count": 36,
   "id": "1213cafd",
   "metadata": {},
   "outputs": [
    {
     "name": "stdout",
     "output_type": "stream",
     "text": [
      "Merkle root: 8a5f8d59a67a78a0979119eda1e2c326cf18df3c7b42235cc74e4e67f56b931d\n",
      "Merkle proof for first leaf: [('right', '7d29b8b8bf00bbb427723f52923700e931b9dc25d8afc726dba7c59da6b645bd'), ('right', 'b6faa6fe3f173b78bdd48633b14fa8ae7af47dfa2e9e84299535bae65a904f69')]\n",
      "Proof verification: True\n"
     ]
    }
   ],
   "source": [
    "# create a tree from the batch\n",
    "tree = MerkleTree()\n",
    "for batch in llmBatch:\n",
    "    tree.add_leaf(str(batch))\n",
    "tree.make_tree()\n",
    "print(\"Merkle root:\", tree.get_root())\n",
    "proof = tree.get_proof(0)\n",
    "print(\"Merkle proof for first leaf:\", proof)\n",
    "print(\"Proof verification:\", tree.verify_proof(proof, str(llmBatch[0]), tree.get_root()))"
   ]
  },
  {
   "cell_type": "code",
   "execution_count": 37,
   "id": "2973ce95",
   "metadata": {},
   "outputs": [
    {
     "name": "stdout",
     "output_type": "stream",
     "text": [
      "\n",
      "Merkle Tree:\n",
      "Root: 8a5f8d59\n",
      "Level 1: b17f891f | b6faa6fe\n",
      "Leaf: e4ac0148 | 7d29b8b8 | edfe39aa | 4f8df7b3\n"
     ]
    }
   ],
   "source": [
    "tree.print_tree(short=True)"
   ]
  }
 ],
 "metadata": {
  "kernelspec": {
   "display_name": "Poetry (Merkle Tree Notebooks)",
   "language": "python",
   "name": "merkle-tree-notebooks"
  },
  "language_info": {
   "codemirror_mode": {
    "name": "ipython",
    "version": 3
   },
   "file_extension": ".py",
   "mimetype": "text/x-python",
   "name": "python",
   "nbconvert_exporter": "python",
   "pygments_lexer": "ipython3",
   "version": "3.12.5"
  }
 },
 "nbformat": 4,
 "nbformat_minor": 5
}
