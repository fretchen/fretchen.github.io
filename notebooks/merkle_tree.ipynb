{
 "cells": [
  {
   "cell_type": "markdown",
   "id": "e7ea39b4",
   "metadata": {},
   "source": [
    "# What are merkle trees and how could I use them?\n",
    "\n",
    "In this notebook I look into how merkle trees work and how I might use them.\n",
    "\n",
    "Let me first create some batches that I want to hash. I will use the `hash` function from the `hashlib` module in Python."
   ]
  },
  {
   "cell_type": "code",
   "execution_count": 2,
   "id": "071c577a",
   "metadata": {},
   "outputs": [],
   "source": [
    "llmBatch = [\n",
    "{\n",
    "id: 1,\n",
    "\"prompt\": \"Analyze sentiment of user feedback\",\n",
    "\"model\": \"gpt-4-turbo\",\n",
    "\"recipient\": \"0xUser1Address...\"\n",
    "},\n",
    "{\n",
    "id: 2,\n",
    "\"prompt\": \"Translate user instructions to French\",\n",
    "\"model\": \"gpt-4-turbo\",\n",
    "\"recipient\": \"0xUser2Address...\"\n",
    "},\n",
    "{\n",
    "id: 3,\n",
    "\"prompt\": \"Summarize the latest research on AI\",\n",
    "\"model\": \"gpt-4-turbo\",\n",
    "\"recipient\": \"0xUser3Address...\"\n",
    "},\n",
    "{\n",
    "id: 4,\n",
    "\"prompt\": \"Generate a creative story based on user input\",\n",
    "\"model\": \"gpt-4-turbo\",\n",
    "\"recipient\": \"0xUser4Address...\"\n",
    "}\n",
    "]"
   ]
  },
  {
   "cell_type": "markdown",
   "id": "e44fda88",
   "metadata": {},
   "source": [
    "Now that I have my batches, I can create a merkle tree. A merkle tree is a binary tree where each leaf node is a hash of a batch."
   ]
  },
  {
   "cell_type": "code",
   "execution_count": 3,
   "id": "5db02e22",
   "metadata": {},
   "outputs": [
    {
     "name": "stdout",
     "output_type": "stream",
     "text": [
      "Leaf hashes: [5536965757876449287, -8694986093143435259, -6728449945876282466, 4454228582493851044]\n"
     ]
    }
   ],
   "source": [
    "leaf_hashes = [hash(str(batch).encode('utf-8')) for batch in llmBatch]\n",
    "print(\"Leaf hashes:\", leaf_hashes)"
   ]
  },
  {
   "cell_type": "markdown",
   "id": "ea3ee560",
   "metadata": {},
   "source": [
    "Now that I have the four leafs I can create the parent nodes. The parent node is the hash of the concatenation of its two child nodes.\n",
    "\n",
    "Finally, I can create the root node, which is the hash of the concatenation of its two child nodes."
   ]
  },
  {
   "cell_type": "code",
   "execution_count": 6,
   "id": "19793e8c",
   "metadata": {},
   "outputs": [
    {
     "name": "stdout",
     "output_type": "stream",
     "text": [
      "Parent nodes: [1363693419216992586, -4646942462854463524]\n",
      "Root node: -5862987695849600464\n"
     ]
    }
   ],
   "source": [
    "# create parent nodes\n",
    "parent_nodes = []\n",
    "for i in range(0, len(leaf_hashes), 2):\n",
    "    parent_node = hash((leaf_hashes[i], leaf_hashes[i + 1]))\n",
    "    parent_nodes.append(parent_node)\n",
    "print(\"Parent nodes:\", parent_nodes)\n",
    "\n",
    "root_node = hash((parent_nodes[0], parent_nodes[1]))\n",
    "print(\"Root node:\", root_node)"
   ]
  }
 ],
 "metadata": {
  "kernelspec": {
   "display_name": "3.12.6",
   "language": "python",
   "name": "python3"
  },
  "language_info": {
   "codemirror_mode": {
    "name": "ipython",
    "version": 3
   },
   "file_extension": ".py",
   "mimetype": "text/x-python",
   "name": "python",
   "nbconvert_exporter": "python",
   "pygments_lexer": "ipython3",
   "version": "3.12.6"
  }
 },
 "nbformat": 4,
 "nbformat_minor": 5
}
