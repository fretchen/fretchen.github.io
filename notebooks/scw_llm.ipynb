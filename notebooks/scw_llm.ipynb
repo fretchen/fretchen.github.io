{
 "cells": [
  {
   "cell_type": "code",
   "execution_count": 2,
   "id": "05538003",
   "metadata": {},
   "outputs": [],
   "source": [
    "import requests\n",
    "import json"
   ]
  },
  {
   "cell_type": "code",
   "execution_count": 12,
   "id": "f1b30661",
   "metadata": {},
   "outputs": [],
   "source": [
    "# a request to localhost:8080\n",
    "\n",
    "url = \"http://localhost:8080\"\n",
    "# url = \"https://mypersonaljscloudivnad9dy-readnft.functions.fnc.fr-par.scw.cloud\"\n",
    "\n",
    "my_prompt = [\n",
    "    {\"role\": \"system\", \"content\": \"You are a helpful assistant.\"},\n",
    "    {\"role\": \"user\", \"content\": \"Where is Argentine?\"},\n",
    "]\n",
    "# my_prompt = \"Where is Chile?\"  # Example prompt, can be replaced with any string"
   ]
  },
  {
   "cell_type": "markdown",
   "id": "7a750e36",
   "metadata": {},
   "source": [
    "# Sign the message\n",
    "\n",
    "Now that we create messages and do not directly write them to the blockchain, we need to sign them before sending them to the server."
   ]
  },
  {
   "cell_type": "code",
   "execution_count": null,
   "id": "3b61209c",
   "metadata": {},
   "outputs": [],
   "source": [
    "import requests\n",
    "from web3 import Web3\n",
    "from eth_account.messages import encode_defunct\n",
    "\n",
    "from dotenv import load_dotenv\n",
    "import os"
   ]
  },
  {
   "cell_type": "code",
   "execution_count": 5,
   "id": "25cb24ca",
   "metadata": {},
   "outputs": [],
   "source": [
    "load_dotenv()\n",
    "WALLET_PRIVATE_KEY = os.getenv(\"TEST_WALLET_PRIVATE_KEY\")"
   ]
  },
  {
   "cell_type": "code",
   "execution_count": 6,
   "id": "e12fc7a4",
   "metadata": {},
   "outputs": [],
   "source": [
    "class EthApiAuth:\n",
    "    def __init__(self, api_base_url, private_key):\n",
    "        self.api_base_url = api_base_url\n",
    "        self.w3 = Web3()\n",
    "        self.account = self.w3.eth.account.from_key(private_key)\n",
    "\n",
    "    def create_auth_payload(self, data):\n",
    "        \"\"\"Create minimal authentication payload with signature\"\"\"\n",
    "        if not self.account:\n",
    "            raise ValueError(\"No account set. Provide private key first.\")\n",
    "\n",
    "        message = f\"Authenticate wallet: {self.account.address}\"\n",
    "        signature = self.sign_message(message)\n",
    "\n",
    "        return {\n",
    "            'auth': {\n",
    "                'address': self.account.address,\n",
    "                'signature': signature,\n",
    "                'message': message  # optional, für Debugging\n",
    "            },\n",
    "            \"data\": data\n",
    "        }\n",
    "\n",
    "    def sign_message(self, message):\n",
    "        \"\"\"Sign message with private key\"\"\"\n",
    "        if not self.account:\n",
    "            raise ValueError(\"No account set. Provide private key first.\")\n",
    "\n",
    "        # Sign the message\n",
    "        message_encoded = encode_defunct(text=message)\n",
    "        signed_message = self.account.sign_message(message_encoded)\n",
    "\n",
    "        return \"0x\" + signed_message.signature.hex()\n",
    "\n",
    "    def make_authenticated_request(self, endpoint, data, method=\"POST\"):\n",
    "        \"\"\"Make authenticated API request\"\"\"\n",
    "        # Create auth message\n",
    "        auth_data = self.create_auth_payload(data)\n",
    "\n",
    "        # Make request\n",
    "        url = f\"{self.api_base_url}{endpoint}\"\n",
    "\n",
    "        if method.upper() == \"POST\":\n",
    "            response = requests.post(url, json=auth_data)\n",
    "        else:\n",
    "            raise ValueError(f\"Unsupported HTTP method: {method}\")\n",
    "        if response.status_code != 200:\n",
    "            raise Exception(f\"Request failed with status code {response.status_code}: {response.text}\")\n",
    "        return response.json()"
   ]
  },
  {
   "cell_type": "code",
   "execution_count": 37,
   "id": "f5aedb5b",
   "metadata": {},
   "outputs": [
    {
     "name": "stdout",
     "output_type": "stream",
     "text": [
      "User data: {'content': 'Argentina is a country located in the southern part of South America. It is bordered by the following countries:\\n\\n* Chile to the west\\n* Bolivia and Paraguay to the north\\n* Brazil to the northeast\\n* Uruguay and the South Atlantic Ocean to the east\\n* The Drake Passage to the south, which separates it from Antarctica\\n\\nArgentina is the second-largest country in South America, after Brazil, and the eighth-largest country in the world. Its capital and largest city is Buenos Aires.', 'usage': {'completion_tokens': 99, 'prompt_tokens': 45, 'total_tokens': 144, 'prompt_tokens_details': None}, 'model': 'meta-llama/Llama-3.3-70B-Instruct'}\n"
     ]
    }
   ],
   "source": [
    "# url = \"http://localhost:8080\"\n",
    "url = \"https://mypersonaljscloudivnad9dy-llm.functions.fnc.fr-par.scw.cloud\"\n",
    "auth = EthApiAuth(url, WALLET_PRIVATE_KEY)\n",
    "prompt_data = {\"prompt\": my_prompt, \"useDummyData\": False}\n",
    "\n",
    "# Make authenticated POST request\n",
    "user_data = auth.make_authenticated_request(\"/\", data=prompt_data, method=\"POST\")\n",
    "print(\"User data:\", user_data)"
   ]
  },
  {
   "cell_type": "markdown",
   "id": "f1eb6749",
   "metadata": {},
   "source": [
    "# Get the leafs\n",
    "\n",
    "let me now also test if I can get the leaves for a specific address. The tests on the localhost are running for `jeaf_history.js`. "
   ]
  },
  {
   "cell_type": "code",
   "execution_count": null,
   "id": "f35df8b6",
   "metadata": {},
   "outputs": [],
   "source": [
    "url = \"http://localhost:8080\"\n",
    "# url = \"https://mypersonaljscloudivnad9dy-readnft.functions.fnc.fr-par.scw.cloud\"\n",
    "\n",
    "walletAddress = \"0x073F26F0C3FC100E7B075C3DC3CDE0A777497D20\"\n",
    "# send a get request with the prompt and tokenId as query parameters\n",
    "response = requests.get(\n",
    "    url, params={\"address\": walletAddress}\n",
    ")"
   ]
  }
 ],
 "metadata": {
  "kernelspec": {
   "display_name": "merkle-tree-notebooks",
   "language": "python",
   "name": "merkle-tree-notebooks"
  },
  "language_info": {
   "codemirror_mode": {
    "name": "ipython",
    "version": 3
   },
   "file_extension": ".py",
   "mimetype": "text/x-python",
   "name": "python",
   "nbconvert_exporter": "python",
   "pygments_lexer": "ipython3",
   "version": "3.12.5"
  }
 },
 "nbformat": 4,
 "nbformat_minor": 5
}
