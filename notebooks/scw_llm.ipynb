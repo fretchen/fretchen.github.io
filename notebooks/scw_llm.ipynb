{
 "cells": [
  {
   "cell_type": "code",
   "execution_count": 2,
   "id": "05538003",
   "metadata": {},
   "outputs": [],
   "source": [
    "import requests\n",
    "import json"
   ]
  },
  {
   "cell_type": "code",
   "execution_count": 3,
   "id": "f1b30661",
   "metadata": {},
   "outputs": [],
   "source": [
    "# a request to localhost:8080\n",
    "\n",
    "url = \"http://localhost:8080\"\n",
    "# url = \"https://mypersonaljscloudivnad9dy-readnft.functions.fnc.fr-par.scw.cloud\"\n",
    "\n",
    "my_prompt = [\n",
    "    {\"role\": \"system\", \"content\": \"You are a helpful assistant.\"},\n",
    "    {\"role\": \"user\", \"content\": \"Where is Chile?\"}\n",
    " ]\n",
    "# my_prompt = \"Where is Chile?\"  # Example prompt, can be replaced with any string\n"
   ]
  },
  {
   "cell_type": "markdown",
   "id": "7a750e36",
   "metadata": {},
   "source": [
    "# Sign the message\n",
    "\n",
    "Now that we create messages and do not directly write them to the blockchain, we need to sign them before sending them to the server."
   ]
  },
  {
   "cell_type": "code",
   "execution_count": 4,
   "id": "3b61209c",
   "metadata": {},
   "outputs": [],
   "source": [
    "import time\n",
    "import json\n",
    "import hashlib\n",
    "import random\n",
    "import requests\n",
    "from web3 import Web3\n",
    "from eth_account.messages import encode_defunct\n",
    "from urllib.parse import urlparse\n",
    "\n",
    "from dotenv import load_dotenv\n",
    "import os\n",
    "\n",
    "from typing import Optional, Dict, Any"
   ]
  },
  {
   "cell_type": "code",
   "execution_count": 5,
   "id": "25cb24ca",
   "metadata": {},
   "outputs": [],
   "source": [
    "load_dotenv()\n",
    "WALLET_PRIVATE_KEY = os.getenv(\"TEST_WALLET_PRIVATE_KEY\")"
   ]
  },
  {
   "cell_type": "code",
   "execution_count": 6,
   "id": "e12fc7a4",
   "metadata": {},
   "outputs": [],
   "source": [
    "class EthApiAuth:\n",
    "    def __init__(self, api_base_url, private_key):\n",
    "        self.api_base_url = api_base_url\n",
    "        self.w3 = Web3()\n",
    "        self.account = self.w3.eth.account.from_key(private_key)\n",
    "\n",
    "    def create_auth_payload(self, data):\n",
    "        \"\"\"Create minimal authentication payload with signature\"\"\"\n",
    "        if not self.account:\n",
    "            raise ValueError(\"No account set. Provide private key first.\")\n",
    "\n",
    "        message = f\"Authenticate wallet: {self.account.address}\"\n",
    "        signature = self.sign_message(message)\n",
    "\n",
    "        return {\n",
    "            'auth': {\n",
    "                'address': self.account.address,\n",
    "                'signature': signature,\n",
    "                'message': message  # optional, für Debugging\n",
    "            },\n",
    "            \"data\": data\n",
    "        }\n",
    "\n",
    "    def sign_message(self, message):\n",
    "        \"\"\"Sign message with private key\"\"\"\n",
    "        if not self.account:\n",
    "            raise ValueError(\"No account set. Provide private key first.\")\n",
    "\n",
    "        # Sign the message\n",
    "        message_encoded = encode_defunct(text=message)\n",
    "        signed_message = self.account.sign_message(message_encoded)\n",
    "\n",
    "        return \"0x\" + signed_message.signature.hex()\n",
    "\n",
    "    def make_authenticated_request(self, endpoint, data, method=\"POST\"):\n",
    "        \"\"\"Make authenticated API request\"\"\"\n",
    "        # Create auth message\n",
    "        auth_data = self.create_auth_payload(data)\n",
    "\n",
    "        # Make request\n",
    "        url = f\"{self.api_base_url}{endpoint}\"\n",
    "\n",
    "        if method.upper() == \"POST\":\n",
    "            response = requests.post(url, json=auth_data)\n",
    "        else:\n",
    "            raise ValueError(f\"Unsupported HTTP method: {method}\")\n",
    "        if response.status_code != 200:\n",
    "            raise Exception(f\"Request failed with status code {response.status_code}: {response.text}\")\n",
    "        return response.json()"
   ]
  },
  {
   "cell_type": "code",
   "execution_count": null,
   "id": "f5aedb5b",
   "metadata": {},
   "outputs": [
    {
     "name": "stdout",
     "output_type": "stream",
     "text": [
      "User data: {'content': 'I am a placeholder for the LLM response', 'usage': {'prompt_tokens': 5, 'completion_tokens': 15, 'total_tokens': 15}, 'model': 'placeholder model'}\n"
     ]
    }
   ],
   "source": [
    "url = \"http://localhost:8080\"\n",
    "\n",
    "auth = EthApiAuth(url, WALLET_PRIVATE_KEY)\n",
    "prompt_data = {\"prompt\": my_prompt, \"useDummyData\": False}\n",
    "\n",
    "# Make authenticated POST request\n",
    "user_data = auth.make_authenticated_request(\"/\", data=prompt_data, method=\"POST\")\n",
    "print(\"User data:\", user_data)\n"
   ]
  },
  {
   "cell_type": "code",
   "execution_count": 53,
   "id": "ab0647f7",
   "metadata": {},
   "outputs": [
    {
     "name": "stdout",
     "output_type": "stream",
     "text": [
      "Python data string: {\"prompt\":[{\"content\":\"You are a helpful assistant.\",\"role\":\"system\"},{\"content\":\"Where is Chile?\",\"role\":\"user\"}]}\n",
      "Python hash: 2b83fad2d6a594f17332fdb414385f779488e25ff196bae976588742468e4783\n",
      "Length of data string: 115\n"
     ]
    }
   ],
   "source": [
    "# Debug: Check what data is being hashed\n",
    "import json\n",
    "import hashlib\n",
    "\n",
    "prompt_data = {\"prompt\": my_prompt}\n",
    "data_string = json.dumps(prompt_data, sort_keys=True, separators=(',', ':'))\n",
    "data_hash = hashlib.sha256(data_string.encode()).hexdigest()\n",
    "\n",
    "print(\"Python data string:\", data_string)\n",
    "print(\"Python hash:\", data_hash)\n",
    "print(\"Length of data string:\", len(data_string))"
   ]
  }
 ],
 "metadata": {
  "kernelspec": {
   "display_name": "merkle-tree-notebooks",
   "language": "python",
   "name": "merkle-tree-notebooks"
  },
  "language_info": {
   "codemirror_mode": {
    "name": "ipython",
    "version": 3
   },
   "file_extension": ".py",
   "mimetype": "text/x-python",
   "name": "python",
   "nbconvert_exporter": "python",
   "pygments_lexer": "ipython3",
   "version": "3.12.5"
  }
 },
 "nbformat": 4,
 "nbformat_minor": 5
}
