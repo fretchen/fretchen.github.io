{
 "cells": [
  {
   "cell_type": "code",
   "execution_count": 1,
   "id": "05538003",
   "metadata": {},
   "outputs": [],
   "source": [
    "import requests"
   ]
  },
  {
   "cell_type": "code",
   "execution_count": null,
   "id": "f1b30661",
   "metadata": {},
   "outputs": [],
   "source": [
    "# a request to localhost:8080\n",
    "\n",
    "url = \"http://localhost:8080\"\n",
    "# url = \"https://mypersonaljscloudivnad9dy-readnft.functions.fnc.fr-par.scw.cloud\"\n",
    "\n",
    "#my_prompt = [\n",
    "#    {\"role\": \"system\", \"content\": \"You are a helpful assistant.\"},\n",
    "#    {\"role\": \"user\", \"content\": \"Where is Chile?\"}\n",
    "# ]\n",
    "my_prompt = \"Where is Chile?\"  # Example prompt, can be replaced with any string\n",
    "\n",
    "# send a get request with the prompt and tokenId as query parameters\n",
    "response = requests.get(\n",
    "    url, params={\"prompt\": my_prompt}\n",
    ")"
   ]
  }
 ],
 "metadata": {
  "kernelspec": {
   "display_name": "merkle-tree-notebooks",
   "language": "python",
   "name": "merkle-tree-notebooks"
  },
  "language_info": {
   "codemirror_mode": {
    "name": "ipython",
    "version": 3
   },
   "file_extension": ".py",
   "mimetype": "text/x-python",
   "name": "python",
   "nbconvert_exporter": "python",
   "pygments_lexer": "ipython3",
   "version": "3.12.5"
  }
 },
 "nbformat": 4,
 "nbformat_minor": 5
}
