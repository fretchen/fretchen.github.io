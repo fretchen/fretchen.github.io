{
 "cells": [
  {
   "cell_type": "markdown",
   "metadata": {},
   "source": [
    "# Scaleway buckets\n",
    "\n",
    "Can we use them in some simple fashion ?"
   ]
  },
  {
   "cell_type": "code",
   "execution_count": 7,
   "metadata": {},
   "outputs": [
    {
     "name": "stdout",
     "output_type": "stream",
     "text": [
      "Collecting cloudpathlib[s3]\n",
      "  Downloading cloudpathlib-0.21.0-py3-none-any.whl.metadata (14 kB)\n",
      "Collecting boto3>=1.34.0 (from cloudpathlib[s3])\n",
      "  Downloading boto3-1.37.23-py3-none-any.whl.metadata (6.7 kB)\n",
      "Collecting botocore<1.38.0,>=1.37.23 (from boto3>=1.34.0->cloudpathlib[s3])\n",
      "  Downloading botocore-1.37.23-py3-none-any.whl.metadata (5.7 kB)\n",
      "Collecting jmespath<2.0.0,>=0.7.1 (from boto3>=1.34.0->cloudpathlib[s3])\n",
      "  Downloading jmespath-1.0.1-py3-none-any.whl.metadata (7.6 kB)\n",
      "Collecting s3transfer<0.12.0,>=0.11.0 (from boto3>=1.34.0->cloudpathlib[s3])\n",
      "  Downloading s3transfer-0.11.4-py3-none-any.whl.metadata (1.7 kB)\n",
      "Requirement already satisfied: python-dateutil<3.0.0,>=2.1 in /Users/fredjendrzejewski/.pyenv/versions/3.12.5/lib/python3.12/site-packages (from botocore<1.38.0,>=1.37.23->boto3>=1.34.0->cloudpathlib[s3]) (2.9.0.post0)\n",
      "Requirement already satisfied: urllib3!=2.2.0,<3,>=1.25.4 in /Users/fredjendrzejewski/.pyenv/versions/3.12.5/lib/python3.12/site-packages (from botocore<1.38.0,>=1.37.23->boto3>=1.34.0->cloudpathlib[s3]) (2.3.0)\n",
      "Requirement already satisfied: six>=1.5 in /Users/fredjendrzejewski/.pyenv/versions/3.12.5/lib/python3.12/site-packages (from python-dateutil<3.0.0,>=2.1->botocore<1.38.0,>=1.37.23->boto3>=1.34.0->cloudpathlib[s3]) (1.17.0)\n",
      "Downloading boto3-1.37.23-py3-none-any.whl (139 kB)\n",
      "Downloading cloudpathlib-0.21.0-py3-none-any.whl (52 kB)\n",
      "Downloading botocore-1.37.23-py3-none-any.whl (13.4 MB)\n",
      "\u001b[2K   \u001b[90m━━━━━━━━━━━━━━━━━━━━━━━━━━━━━━━━━━━━━━━━\u001b[0m \u001b[32m13.4/13.4 MB\u001b[0m \u001b[31m25.1 MB/s\u001b[0m eta \u001b[36m0:00:00\u001b[0ma \u001b[36m0:00:01\u001b[0m\n",
      "\u001b[?25hDownloading jmespath-1.0.1-py3-none-any.whl (20 kB)\n",
      "Downloading s3transfer-0.11.4-py3-none-any.whl (84 kB)\n",
      "Installing collected packages: jmespath, cloudpathlib, botocore, s3transfer, boto3\n",
      "Successfully installed boto3-1.37.23 botocore-1.37.23 cloudpathlib-0.21.0 jmespath-1.0.1 s3transfer-0.11.4\n"
     ]
    }
   ],
   "source": [
    "!pip install \"cloudpathlib[s3]\""
   ]
  },
  {
   "cell_type": "code",
   "execution_count": 27,
   "metadata": {},
   "outputs": [],
   "source": [
    "from cloudpathlib import CloudPath, S3Client\n",
    "from dotenv import load_dotenv\n",
    "import os\n",
    "\n",
    "import json\n",
    "import uuid \n"
   ]
  },
  {
   "cell_type": "code",
   "execution_count": 11,
   "metadata": {},
   "outputs": [],
   "source": [
    "# Load environment variables from .env file\n",
    "load_dotenv()\n",
    "\n",
    "# Set your Scaleway credentials\n",
    "# Ideally use environment variables for security\n",
    "access_key = os.environ.get(\"SCW_ACCESS_KEY\")\n",
    "secret_key = os.environ.get(\"SCW_SECRET_KEY\")"
   ]
  },
  {
   "cell_type": "code",
   "execution_count": 13,
   "metadata": {},
   "outputs": [],
   "source": [
    "s3_client = S3Client(\n",
    "    endpoint_url=\"https://s3.nl-ams.scw.cloud\",\n",
    "    aws_access_key_id=access_key,\n",
    "    aws_secret_access_key=secret_key\n",
    ")\n"
   ]
  },
  {
   "cell_type": "code",
   "execution_count": 15,
   "metadata": {},
   "outputs": [],
   "source": [
    "c_path = CloudPath(\"s3://my-imagestore/test.txt\", client=s3_client)"
   ]
  },
  {
   "cell_type": "code",
   "execution_count": 17,
   "metadata": {},
   "outputs": [
    {
     "data": {
      "text/plain": [
       "False"
      ]
     },
     "execution_count": 17,
     "metadata": {},
     "output_type": "execute_result"
    }
   ],
   "source": [
    "c_path.exists()  # Check if the file exists"
   ]
  },
  {
   "cell_type": "code",
   "execution_count": 18,
   "metadata": {},
   "outputs": [
    {
     "data": {
      "text/plain": [
       "27"
      ]
     },
     "execution_count": 18,
     "metadata": {},
     "output_type": "execute_result"
    }
   ],
   "source": [
    "c_path.write_text(\"Hello to all of my friends!\")"
   ]
  },
  {
   "cell_type": "markdown",
   "metadata": {},
   "source": [
    "## Json file\n",
    "\n",
    "Let us now try out the whole thing with a test json file"
   ]
  },
  {
   "cell_type": "code",
   "execution_count": 37,
   "metadata": {},
   "outputs": [
    {
     "name": "stdout",
     "output_type": "stream",
     "text": [
      "imagec87c28.json\n"
     ]
    }
   ],
   "source": [
    "# create a test json object\n",
    "test_json =  {\n",
    "    \"name\": \"John Doe\",\n",
    "    \"age\": 30,\n",
    "    \"city\": \"New York\"\n",
    "}\n",
    "\n",
    "# create a uuid for the file\n",
    "file_name = f\"image{uuid.uuid4().hex[:6]}.json\"\n",
    "\n",
    "print(file_name)"
   ]
  },
  {
   "cell_type": "code",
   "execution_count": 40,
   "metadata": {},
   "outputs": [],
   "source": [
    "def upload_json(json_obj:dict, file_name:str) -> None:\n",
    "    \"\"\"\n",
    "    Uploads a JSON object to S3.\n",
    "    \n",
    "    json_obj: The JSON object to upload.\n",
    "    file_name: The name of the file to save the JSON object as.\n",
    "    \"\"\"\n",
    "    # Convert the JSON object to a string\n",
    "    json_str = json.dumps(json_obj)\n",
    "    \n",
    "    path_str = f\"s3://my-imagestore/{file_name}\"\n",
    "\n",
    "    # create the s3 client\n",
    "    s3_client = S3Client(\n",
    "        endpoint_url=\"https://s3.nl-ams.scw.cloud\",\n",
    "        aws_access_key_id=access_key,\n",
    "        aws_secret_access_key=secret_key,\n",
    "        extra_args={'ACL': 'public-read'}\n",
    "    )\n",
    "    # Write the JSON string to a file\n",
    "    with CloudPath(path_str, client=s3_client).open(\"w\") as f:\n",
    "        f.write(json_str)\n",
    "    "
   ]
  },
  {
   "cell_type": "code",
   "execution_count": 41,
   "metadata": {},
   "outputs": [],
   "source": [
    "upload_json(test_json, file_name)"
   ]
  }
 ],
 "metadata": {
  "kernelspec": {
   "display_name": "Python 3",
   "language": "python",
   "name": "python3"
  },
  "language_info": {
   "codemirror_mode": {
    "name": "ipython",
    "version": 3
   },
   "file_extension": ".py",
   "mimetype": "text/x-python",
   "name": "python",
   "nbconvert_exporter": "python",
   "pygments_lexer": "ipython3",
   "version": "3.12.5"
  }
 },
 "nbformat": 4,
 "nbformat_minor": 2
}
